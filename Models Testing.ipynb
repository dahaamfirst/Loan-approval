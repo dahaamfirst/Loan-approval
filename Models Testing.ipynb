{
 "cells": [
  {
   "cell_type": "code",
   "execution_count": 1,
   "id": "cd26393c-80fd-46c2-9174-555ef8e65582",
   "metadata": {},
   "outputs": [],
   "source": [
    "# Import Libraries\n",
    "import pandas as pd\n",
    "import numpy as np\n",
    "import seaborn as sns\n",
    "import matplotlib.pyplot as plt"
   ]
  },
  {
   "cell_type": "code",
   "execution_count": 2,
   "id": "27b6eab3-ce05-4a3c-a4a3-8ec3c2ee3922",
   "metadata": {},
   "outputs": [],
   "source": [
    "# Cleaned Data\n",
    "df_cleaned = pd.read_csv(\"C:/Users/Dell/Desktop/Jupyter MLT Homework - Cross Validation - Models Testing/cleaned_data.csv\", encoding=\"utf-8\")"
   ]
  },
  {
   "cell_type": "code",
   "execution_count": 3,
   "id": "39957e91-fba7-4a63-9627-7cb502e1a122",
   "metadata": {},
   "outputs": [
    {
     "data": {
      "text/html": [
       "<div>\n",
       "<style scoped>\n",
       "    .dataframe tbody tr th:only-of-type {\n",
       "        vertical-align: middle;\n",
       "    }\n",
       "\n",
       "    .dataframe tbody tr th {\n",
       "        vertical-align: top;\n",
       "    }\n",
       "\n",
       "    .dataframe thead th {\n",
       "        text-align: right;\n",
       "    }\n",
       "</style>\n",
       "<table border=\"1\" class=\"dataframe\">\n",
       "  <thead>\n",
       "    <tr style=\"text-align: right;\">\n",
       "      <th></th>\n",
       "      <th>Gender</th>\n",
       "      <th>Married</th>\n",
       "      <th>Dependents</th>\n",
       "      <th>Education</th>\n",
       "      <th>Self_Employed</th>\n",
       "      <th>Credit_History</th>\n",
       "      <th>Property_Area</th>\n",
       "      <th>Log_Total_Income</th>\n",
       "      <th>Log_LoanAmount</th>\n",
       "      <th>Log_Loan_Amount_Term</th>\n",
       "      <th>Loan_Status</th>\n",
       "    </tr>\n",
       "  </thead>\n",
       "  <tbody>\n",
       "    <tr>\n",
       "      <th>0</th>\n",
       "      <td>1</td>\n",
       "      <td>0</td>\n",
       "      <td>0</td>\n",
       "      <td>0</td>\n",
       "      <td>0</td>\n",
       "      <td>1.0</td>\n",
       "      <td>2</td>\n",
       "      <td>8.674197</td>\n",
       "      <td>4.859812</td>\n",
       "      <td>5.888878</td>\n",
       "      <td>1</td>\n",
       "    </tr>\n",
       "    <tr>\n",
       "      <th>1</th>\n",
       "      <td>1</td>\n",
       "      <td>1</td>\n",
       "      <td>1</td>\n",
       "      <td>0</td>\n",
       "      <td>0</td>\n",
       "      <td>1.0</td>\n",
       "      <td>0</td>\n",
       "      <td>8.714732</td>\n",
       "      <td>4.859812</td>\n",
       "      <td>5.888878</td>\n",
       "      <td>0</td>\n",
       "    </tr>\n",
       "    <tr>\n",
       "      <th>2</th>\n",
       "      <td>1</td>\n",
       "      <td>1</td>\n",
       "      <td>0</td>\n",
       "      <td>0</td>\n",
       "      <td>1</td>\n",
       "      <td>1.0</td>\n",
       "      <td>2</td>\n",
       "      <td>8.006701</td>\n",
       "      <td>4.204693</td>\n",
       "      <td>5.888878</td>\n",
       "      <td>1</td>\n",
       "    </tr>\n",
       "    <tr>\n",
       "      <th>3</th>\n",
       "      <td>1</td>\n",
       "      <td>1</td>\n",
       "      <td>0</td>\n",
       "      <td>1</td>\n",
       "      <td>0</td>\n",
       "      <td>1.0</td>\n",
       "      <td>2</td>\n",
       "      <td>8.505525</td>\n",
       "      <td>4.795791</td>\n",
       "      <td>5.888878</td>\n",
       "      <td>1</td>\n",
       "    </tr>\n",
       "    <tr>\n",
       "      <th>4</th>\n",
       "      <td>1</td>\n",
       "      <td>0</td>\n",
       "      <td>0</td>\n",
       "      <td>0</td>\n",
       "      <td>0</td>\n",
       "      <td>1.0</td>\n",
       "      <td>2</td>\n",
       "      <td>8.699681</td>\n",
       "      <td>4.955827</td>\n",
       "      <td>5.888878</td>\n",
       "      <td>1</td>\n",
       "    </tr>\n",
       "  </tbody>\n",
       "</table>\n",
       "</div>"
      ],
      "text/plain": [
       "   Gender  Married  Dependents  Education  Self_Employed  Credit_History  \\\n",
       "0       1        0           0          0              0             1.0   \n",
       "1       1        1           1          0              0             1.0   \n",
       "2       1        1           0          0              1             1.0   \n",
       "3       1        1           0          1              0             1.0   \n",
       "4       1        0           0          0              0             1.0   \n",
       "\n",
       "   Property_Area  Log_Total_Income  Log_LoanAmount  Log_Loan_Amount_Term  \\\n",
       "0              2          8.674197        4.859812              5.888878   \n",
       "1              0          8.714732        4.859812              5.888878   \n",
       "2              2          8.006701        4.204693              5.888878   \n",
       "3              2          8.505525        4.795791              5.888878   \n",
       "4              2          8.699681        4.955827              5.888878   \n",
       "\n",
       "   Loan_Status  \n",
       "0            1  \n",
       "1            0  \n",
       "2            1  \n",
       "3            1  \n",
       "4            1  "
      ]
     },
     "execution_count": 3,
     "metadata": {},
     "output_type": "execute_result"
    }
   ],
   "source": [
    "# Show Cleaned Data\n",
    "df_cleaned.head()"
   ]
  },
  {
   "cell_type": "code",
   "execution_count": null,
   "id": "61369f92-7252-4ec2-abb2-247d28780b01",
   "metadata": {},
   "outputs": [],
   "source": [
    "# Show Data Issue (Imbalanced Data)"
   ]
  },
  {
   "cell_type": "code",
   "execution_count": 6,
   "id": "45705767-825e-4c5d-96e0-12f9717a20db",
   "metadata": {},
   "outputs": [
    {
     "name": "stdout",
     "output_type": "stream",
     "text": [
      "Loan_Status  Gender\n",
      "0            1         155\n",
      "             0          37\n",
      "1            1         347\n",
      "             0          75\n",
      "Name: count, dtype: int64\n"
     ]
    },
    {
     "data": {
      "image/png": "[encoded data removed]",
      "text/plain": [
       "<Figure size 640x480 with 1 Axes>"
      ]
     },
     "metadata": {},
     "output_type": "display_data"
    }
   ],
   "source": [
    "# Gender and Loan_Status relation\n",
    "Gender_LoanStatus_relation = df_cleaned.groupby('Loan_Status')['Gender'].value_counts()\n",
    "print(Gender_LoanStatus_relation)\n",
    "sns.countplot(x ='Gender', hue = \"Loan_Status\", data = df_cleaned)\n",
    "plt.show()"
   ]
  },
  {
   "cell_type": "code",
   "execution_count": 7,
   "id": "ad550692-a89b-45ad-820f-1a9e6bc1fa77",
   "metadata": {},
   "outputs": [
    {
     "name": "stdout",
     "output_type": "stream",
     "text": [
      "Loan_Status  Credit_History\n",
      "0            1.0               110\n",
      "             0.0                82\n",
      "1            1.0               415\n",
      "             0.0                 7\n",
      "Name: count, dtype: int64\n"
     ]
    },
    {
     "data": {
      "image/png": "[encoded data removed]",
      "text/plain": [
       "<Figure size 640x480 with 1 Axes>"
      ]
     },
     "metadata": {},
     "output_type": "display_data"
    }
   ],
   "source": [
    "# Credit_History and Loan_Status relation\n",
    "CreditHistory_LoanStatus_relation = df_cleaned.groupby('Loan_Status')['Credit_History'].value_counts()\n",
    "print(CreditHistory_LoanStatus_relation)\n",
    "sns.countplot(x ='Credit_History', hue = \"Loan_Status\", data = df_cleaned)\n",
    "plt.show()"
   ]
  },
  {
   "cell_type": "code",
   "execution_count": 8,
   "id": "b36e5fd3-c266-4aa0-93af-c650c4e8a140",
   "metadata": {},
   "outputs": [
    {
     "name": "stdout",
     "output_type": "stream",
     "text": [
      "\n",
      " Target Varibale (Loan Status) Ditribuation\n",
      "Loan_Status\n",
      "1    422\n",
      "0    192\n",
      "Name: count, dtype: int64\n",
      "Loan_Status\n",
      "1    68.729642\n",
      "0    31.270358\n",
      "Name: proportion, dtype: float64\n"
     ]
    },
    {
     "data": {
      "image/png": "[encoded data removed]",
      "text/plain": [
       "<Figure size 640x480 with 1 Axes>"
      ]
     },
     "metadata": {},
     "output_type": "display_data"
    }
   ],
   "source": [
    "# Visualize the ditribution of the target variavle (Loan_Status)\n",
    "print(\"\\n Target Varibale (Loan Status) Ditribuation\")\n",
    "print(df_cleaned['Loan_Status'].value_counts())\n",
    "print(df_cleaned['Loan_Status'].value_counts(normalize=True)*100)\n",
    "sns.countplot(x='Loan_Status', data=df_cleaned)\n",
    "plt.title(\"Loan Approval Ditribuation\")\n",
    "plt.show()"
   ]
  },
  {
   "cell_type": "code",
   "execution_count": 9,
   "id": "85445a7a-2c37-4ec5-9fd4-69d79c7fb62f",
   "metadata": {},
   "outputs": [],
   "source": [
    "# Columns Distribution\n",
    "X = df_cleaned.iloc[:, np.r_[0:10]]\n",
    "y = df_cleaned.iloc[:, 10]"
   ]
  },
  {
   "cell_type": "code",
   "execution_count": 10,
   "id": "0bc255e6-2f13-4a05-b9be-ecac17c6ac2f",
   "metadata": {},
   "outputs": [],
   "source": [
    "# Cross Validation :\n",
    "# Use Stratified KFold to fit an unbalanced data distribution.\n",
    "from sklearn.model_selection import StratifiedKFold, cross_val_score\n",
    "from sklearn.svm import SVC\n",
    "\n",
    "skf = StratifiedKFold(n_splits=10, random_state=None, shuffle=False)"
   ]
  },
  {
   "cell_type": "code",
   "execution_count": null,
   "id": "5d1c4e17-b2b3-4624-ac93-4d11881bafa5",
   "metadata": {},
   "outputs": [],
   "source": [
    "# Model Testing"
   ]
  },
  {
   "cell_type": "code",
   "execution_count": 11,
   "id": "e8d15740-b1b4-4901-a584-e973a2a3b353",
   "metadata": {},
   "outputs": [
    {
     "name": "stdout",
     "output_type": "stream",
     "text": [
      "accuracy score for each fold :\n",
      " [0.80645161 0.82258065 0.77419355 0.75806452 0.78688525 0.78688525\n",
      " 0.86885246 0.85245902 0.80327869 0.83606557]\n",
      "Average accuracy score: 0.81\n",
      "Average precision score: 0.79\n",
      "Average recall score: 0.98\n",
      "Average f1 score: 0.88\n"
     ]
    }
   ],
   "source": [
    "# Logistic Regression model\n",
    "from sklearn.linear_model import LogisticRegression\n",
    "lg_model = LogisticRegression()\n",
    "\n",
    "# Logestic Regression metrics\n",
    "score = cross_val_score(lg_model, X, y, cv= skf,scoring='accuracy')\n",
    "print('accuracy score for each fold :\\n',score)\n",
    "print(f'Average accuracy score: {\"{:.2f}\".format(score.mean())}')\n",
    "\n",
    "score = cross_val_score(lg_model, X, y, cv= skf,scoring='precision')\n",
    "print(f'Average precision score: {\"{:.2f}\".format(score.mean())}')\n",
    "\n",
    "score = cross_val_score(lg_model, X, y, cv= skf,scoring='recall')\n",
    "print(f'Average recall score: {\"{:.2f}\".format(score.mean())}')\n",
    "\n",
    "score = cross_val_score(lg_model, X, y, cv= skf,scoring='f1')\n",
    "print(f'Average f1 score: {\"{:.2f}\".format(score.mean())}') "
   ]
  },
  {
   "cell_type": "code",
   "execution_count": 12,
   "id": "94954b23-d348-4210-94e8-ecbeb2abd57a",
   "metadata": {},
   "outputs": [
    {
     "name": "stdout",
     "output_type": "stream",
     "text": [
      "accuracy score for each fold :\n",
      " [0.75806452 0.77419355 0.67741935 0.66129032 0.60655738 0.70491803\n",
      " 0.78688525 0.72131148 0.73770492 0.75409836]\n",
      "Average accuracy score: 0.72\n",
      "Average precision score: 0.79\n",
      "Average recall score: 0.80\n",
      "Average f1 score: 0.80\n"
     ]
    }
   ],
   "source": [
    "# Decision Tree Classifier model\n",
    "from sklearn.tree import DecisionTreeClassifier\n",
    "dtc_model = DecisionTreeClassifier()\n",
    "\n",
    "# Decision Tree Classifier metrics\n",
    "score = cross_val_score(dtc_model, X, y, cv= skf,scoring='accuracy')\n",
    "print('accuracy score for each fold :\\n',score)\n",
    "print(f'Average accuracy score: {\"{:.2f}\".format(score.mean())}')\n",
    "\n",
    "score = cross_val_score(dtc_model, X, y, cv= skf,scoring='precision')\n",
    "print(f'Average precision score: {\"{:.2f}\".format(score.mean())}')\n",
    "\n",
    "score = cross_val_score(dtc_model, X, y, cv= skf,scoring='recall')\n",
    "print(f'Average recall score: {\"{:.2f}\".format(score.mean())}')\n",
    "\n",
    "score = cross_val_score(dtc_model, X, y, cv= skf,scoring='f1')\n",
    "print(f'Average f1 score: {\"{:.2f}\".format(score.mean())}') "
   ]
  },
  {
   "cell_type": "code",
   "execution_count": 13,
   "id": "5238d07e-277b-4b8a-81c3-61ede953c861",
   "metadata": {},
   "outputs": [
    {
     "name": "stdout",
     "output_type": "stream",
     "text": [
      "accuracy score for each fold :\n",
      " [0.75806452 0.79032258 0.70967742 0.80645161 0.75409836 0.78688525\n",
      " 0.86885246 0.83606557 0.78688525 0.81967213]\n",
      "Average accuracy score: 0.79\n",
      "Average precision score: 0.80\n",
      "Average recall score: 0.94\n",
      "Average f1 score: 0.86\n"
     ]
    }
   ],
   "source": [
    "# Random Forest Classifier model\n",
    "from sklearn.ensemble import RandomForestClassifier\n",
    "rfc_model = RandomForestClassifier()\n",
    "\n",
    "# Random Forest Classifier metrics\n",
    "score = cross_val_score(rfc_model, X, y, cv= skf,scoring='accuracy')\n",
    "print('accuracy score for each fold :\\n',score)\n",
    "print(f'Average accuracy score: {\"{:.2f}\".format(score.mean())}')\n",
    "\n",
    "score = cross_val_score(rfc_model, X, y, cv= skf,scoring='precision')\n",
    "print(f'Average precision score: {\"{:.2f}\".format(score.mean())}')\n",
    "\n",
    "score = cross_val_score(rfc_model, X, y, cv= skf,scoring='recall')\n",
    "print(f'Average recall score: {\"{:.2f}\".format(score.mean())}')\n",
    "\n",
    "score = cross_val_score(rfc_model, X, y, cv= skf,scoring='f1')\n",
    "print(f'Average f1 score: {\"{:.2f}\".format(score.mean())}') "
   ]
  },
  {
   "cell_type": "code",
   "execution_count": null,
   "id": "24a5dae9-31b4-46fe-8bc8-03a9ff17a34d",
   "metadata": {},
   "outputs": [],
   "source": []
  }
 ],
 "metadata": {
  "kernelspec": {
   "display_name": "Python 3 (ipykernel)",
   "language": "python",
   "name": "python3"
  },
  "language_info": {
   "codemirror_mode": {
    "name": "ipython",
    "version": 3
   },
   "file_extension": ".py",
   "mimetype": "text/x-python",
   "name": "python",
   "nbconvert_exporter": "python",
   "pygments_lexer": "ipython3",
   "version": "3.13.5"
  }
 },
 "nbformat": 4,
 "nbformat_minor": 5
}
