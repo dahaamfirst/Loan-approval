{
 "cells": [
  {
   "cell_type": "code",
   "execution_count": 11,
   "id": "fde19535-2dbe-4ecb-8b38-e5047f2bb777",
   "metadata": {},
   "outputs": [],
   "source": [
    "# Import Libraries\n",
    "import pandas as pd\n",
    "import numpy as np\n",
    "import seaborn as sns\n",
    "import matplotlib.pyplot as plt"
   ]
  },
  {
   "cell_type": "code",
   "execution_count": 12,
   "id": "d4f9c2e5-52a3-4b2c-b84b-a52a55d2530e",
   "metadata": {},
   "outputs": [],
   "source": [
    "# Cleaned Data\n",
    "df_cleaned = pd.read_csv(\"C:/Users/Dell/Desktop/Jupyter MLT Homework - The Model/cleaned_data.csv\", encoding=\"utf-8\")"
   ]
  },
  {
   "cell_type": "code",
   "execution_count": 13,
   "id": "909e735a-b89c-45b6-a99b-4158a40aa92e",
   "metadata": {},
   "outputs": [
    {
     "data": {
      "text/html": [
       "<div>\n",
       "<style scoped>\n",
       "    .dataframe tbody tr th:only-of-type {\n",
       "        vertical-align: middle;\n",
       "    }\n",
       "\n",
       "    .dataframe tbody tr th {\n",
       "        vertical-align: top;\n",
       "    }\n",
       "\n",
       "    .dataframe thead th {\n",
       "        text-align: right;\n",
       "    }\n",
       "</style>\n",
       "<table border=\"1\" class=\"dataframe\">\n",
       "  <thead>\n",
       "    <tr style=\"text-align: right;\">\n",
       "      <th></th>\n",
       "      <th>Gender</th>\n",
       "      <th>Married</th>\n",
       "      <th>Dependents</th>\n",
       "      <th>Education</th>\n",
       "      <th>Self_Employed</th>\n",
       "      <th>Credit_History</th>\n",
       "      <th>Property_Area</th>\n",
       "      <th>Log_Total_Income</th>\n",
       "      <th>Log_LoanAmount</th>\n",
       "      <th>Log_Loan_Amount_Term</th>\n",
       "      <th>Loan_Status</th>\n",
       "    </tr>\n",
       "  </thead>\n",
       "  <tbody>\n",
       "    <tr>\n",
       "      <th>0</th>\n",
       "      <td>1</td>\n",
       "      <td>0</td>\n",
       "      <td>0</td>\n",
       "      <td>0</td>\n",
       "      <td>0</td>\n",
       "      <td>1.0</td>\n",
       "      <td>2</td>\n",
       "      <td>8.674197</td>\n",
       "      <td>4.859812</td>\n",
       "      <td>5.888878</td>\n",
       "      <td>1</td>\n",
       "    </tr>\n",
       "    <tr>\n",
       "      <th>1</th>\n",
       "      <td>1</td>\n",
       "      <td>1</td>\n",
       "      <td>1</td>\n",
       "      <td>0</td>\n",
       "      <td>0</td>\n",
       "      <td>1.0</td>\n",
       "      <td>0</td>\n",
       "      <td>8.714732</td>\n",
       "      <td>4.859812</td>\n",
       "      <td>5.888878</td>\n",
       "      <td>0</td>\n",
       "    </tr>\n",
       "    <tr>\n",
       "      <th>2</th>\n",
       "      <td>1</td>\n",
       "      <td>1</td>\n",
       "      <td>0</td>\n",
       "      <td>0</td>\n",
       "      <td>1</td>\n",
       "      <td>1.0</td>\n",
       "      <td>2</td>\n",
       "      <td>8.006701</td>\n",
       "      <td>4.204693</td>\n",
       "      <td>5.888878</td>\n",
       "      <td>1</td>\n",
       "    </tr>\n",
       "    <tr>\n",
       "      <th>3</th>\n",
       "      <td>1</td>\n",
       "      <td>1</td>\n",
       "      <td>0</td>\n",
       "      <td>1</td>\n",
       "      <td>0</td>\n",
       "      <td>1.0</td>\n",
       "      <td>2</td>\n",
       "      <td>8.505525</td>\n",
       "      <td>4.795791</td>\n",
       "      <td>5.888878</td>\n",
       "      <td>1</td>\n",
       "    </tr>\n",
       "    <tr>\n",
       "      <th>4</th>\n",
       "      <td>1</td>\n",
       "      <td>0</td>\n",
       "      <td>0</td>\n",
       "      <td>0</td>\n",
       "      <td>0</td>\n",
       "      <td>1.0</td>\n",
       "      <td>2</td>\n",
       "      <td>8.699681</td>\n",
       "      <td>4.955827</td>\n",
       "      <td>5.888878</td>\n",
       "      <td>1</td>\n",
       "    </tr>\n",
       "  </tbody>\n",
       "</table>\n",
       "</div>"
      ],
      "text/plain": [
       "   Gender  Married  Dependents  Education  Self_Employed  Credit_History  \\\n",
       "0       1        0           0          0              0             1.0   \n",
       "1       1        1           1          0              0             1.0   \n",
       "2       1        1           0          0              1             1.0   \n",
       "3       1        1           0          1              0             1.0   \n",
       "4       1        0           0          0              0             1.0   \n",
       "\n",
       "   Property_Area  Log_Total_Income  Log_LoanAmount  Log_Loan_Amount_Term  \\\n",
       "0              2          8.674197        4.859812              5.888878   \n",
       "1              0          8.714732        4.859812              5.888878   \n",
       "2              2          8.006701        4.204693              5.888878   \n",
       "3              2          8.505525        4.795791              5.888878   \n",
       "4              2          8.699681        4.955827              5.888878   \n",
       "\n",
       "   Loan_Status  \n",
       "0            1  \n",
       "1            0  \n",
       "2            1  \n",
       "3            1  \n",
       "4            1  "
      ]
     },
     "execution_count": 13,
     "metadata": {},
     "output_type": "execute_result"
    }
   ],
   "source": [
    "# Show Cleaned Data\n",
    "df_cleaned.head()"
   ]
  },
  {
   "cell_type": "code",
   "execution_count": 14,
   "id": "536808f9-594b-4af5-b500-6f32bdffafc5",
   "metadata": {},
   "outputs": [],
   "source": [
    "# Columns Distribution\n",
    "X = df_cleaned.iloc[:, np.r_[0:10]]\n",
    "y = df_cleaned.iloc[:, 10]"
   ]
  },
  {
   "cell_type": "code",
   "execution_count": 15,
   "id": "4e91a72d-2969-47f8-a654-7395d56fac84",
   "metadata": {},
   "outputs": [],
   "source": [
    "# Cross Validation :\n",
    "# Use Stratified KFold to fit an unbalanced data distribution.\n",
    "from sklearn.model_selection import StratifiedKFold, cross_val_score\n",
    "from sklearn.svm import SVC\n",
    "\n",
    "skf = StratifiedKFold(n_splits=10, random_state=None, shuffle=False)"
   ]
  },
  {
   "cell_type": "code",
   "execution_count": 16,
   "id": "da838bb5-8c2b-4f8b-ad9f-149e76450e7b",
   "metadata": {},
   "outputs": [
    {
     "name": "stdout",
     "output_type": "stream",
     "text": [
      "accuracy score for each fold :\n",
      " [0.80645161 0.82258065 0.77419355 0.75806452 0.78688525 0.78688525\n",
      " 0.86885246 0.85245902 0.80327869 0.83606557]\n",
      "Average accuracy score: 0.81\n",
      "Average precision score: 0.79\n",
      "Average recall score: 0.98\n",
      "Average f1 score: 0.88\n"
     ]
    }
   ],
   "source": [
    "# The Model\n",
    "# Logistic Regression model\n",
    "from sklearn.linear_model import LogisticRegression\n",
    "lg_model = LogisticRegression()\n",
    "\n",
    "# Logestic Regression metrics\n",
    "score = cross_val_score(lg_model, X, y, cv= skf,scoring='accuracy')\n",
    "print('accuracy score for each fold :\\n',score)\n",
    "print(f'Average accuracy score: {\"{:.2f}\".format(score.mean())}')\n",
    "\n",
    "score = cross_val_score(lg_model, X, y, cv= skf,scoring='precision')\n",
    "print(f'Average precision score: {\"{:.2f}\".format(score.mean())}')\n",
    "\n",
    "score = cross_val_score(lg_model, X, y, cv= skf,scoring='recall')\n",
    "print(f'Average recall score: {\"{:.2f}\".format(score.mean())}')\n",
    "\n",
    "score = cross_val_score(lg_model, X, y, cv= skf,scoring='f1')\n",
    "print(f'Average f1 score: {\"{:.2f}\".format(score.mean())}') "
   ]
  },
  {
   "cell_type": "code",
   "execution_count": 17,
   "id": "6a0a3877-67d9-43e4-aecf-008b63107f42",
   "metadata": {},
   "outputs": [],
   "source": [
    "# Export Model\n",
    "\n",
    "lg_model.fit(X, y)\n",
    "\n",
    "import pickle\n",
    "\n",
    "model_pkl_file = \"logistic_regression_model.pkl\"\n",
    "\n",
    "with open(model_pkl_file, 'wb') as file:\n",
    "    pickle.dump(lg_model, file)"
   ]
  },
  {
   "cell_type": "code",
   "execution_count": null,
   "id": "41fcb908-f4c1-4822-a52e-5fa276e95119",
   "metadata": {},
   "outputs": [],
   "source": []
  }
 ],
 "metadata": {
  "kernelspec": {
   "display_name": "Python 3 (ipykernel)",
   "language": "python",
   "name": "python3"
  },
  "language_info": {
   "codemirror_mode": {
    "name": "ipython",
    "version": 3
   },
   "file_extension": ".py",
   "mimetype": "text/x-python",
   "name": "python",
   "nbconvert_exporter": "python",
   "pygments_lexer": "ipython3",
   "version": "3.13.5"
  }
 },
 "nbformat": 4,
 "nbformat_minor": 5
}
