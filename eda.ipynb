{
 "cells": [
  {
   "cell_type": "code",
   "execution_count": null,
   "id": "63f8d069",
   "metadata": {},
   "outputs": [],
   "source": [
    "import pandas as pd\n",
    "import numpy as np\n",
    "import seaborn as sns\n",
    "import matplotlib.pyplot as plt\n",
    "\n"
   ]
  },
  {
   "cell_type": "markdown",
   "id": "e4ba21b2",
   "metadata": {},
   "source": [
    "# 1. Data Loading\n",
    "Load the dataset using pandas and show the head and tail of the dataset.\n"
   ]
  },
  {
   "cell_type": "code",
   "execution_count": null,
   "id": "e9ee012d",
   "metadata": {},
   "outputs": [],
   "source": [
    "df = pd.read_csv(\"C:/Users/باسل/OneDrive/Desktop/my_part/loan_prediction.csv\", encoding=\"utf-8\")\n",
    "\n",
    "df.head()"
   ]
  },
  {
   "cell_type": "code",
   "execution_count": null,
   "id": "8b66a302",
   "metadata": {},
   "outputs": [],
   "source": [
    "df.tail()"
   ]
  },
  {
   "cell_type": "markdown",
   "id": "ec659773",
   "metadata": {},
   "source": [
    "# 3. Data Cleaning\n",
    "Handle missing values, remove duplicates, and check for outliers.\n"
   ]
  },
  {
   "cell_type": "code",
   "execution_count": null,
   "id": "52da8354",
   "metadata": {},
   "outputs": [],
   "source": [
    "# Check how many duplicate rows there are\n",
    "duplicates = df.duplicated().sum()\n",
    "print(f\"Number of duplicate rows: {duplicates}\")\n"
   ]
  },
  {
   "cell_type": "code",
   "execution_count": null,
   "id": "1139abfa",
   "metadata": {},
   "outputs": [],
   "source": [
    "df.shape"
   ]
  },
  {
   "cell_type": "code",
   "execution_count": null,
   "id": "b4ee36c7",
   "metadata": {},
   "outputs": [],
   "source": [
    "df.info()"
   ]
  },
  {
   "cell_type": "code",
   "execution_count": null,
   "id": "0cafc680",
   "metadata": {},
   "outputs": [],
   "source": [
    "df.isnull().sum()"
   ]
  },
  {
   "cell_type": "code",
   "execution_count": null,
   "id": "f40417cb",
   "metadata": {},
   "outputs": [],
   "source": [
    "#checking the outliers\n",
    "plt.figure(figsize=(12,8))\n",
    "sns.boxenplot(data=df)"
   ]
  },
  {
   "cell_type": "code",
   "execution_count": null,
   "id": "d90a8fa3",
   "metadata": {},
   "outputs": [],
   "source": [
    "#fill the null values of numerical datatype\n",
    "df['LoanAmount'] =df['LoanAmount'].fillna(df['LoanAmount'].median()) \n",
    "df['Loan_Amount_Term'] =df['Loan_Amount_Term'].fillna(df['Loan_Amount_Term'].mean())\n",
    "df['Credit_History'] =df['Credit_History'].fillna(df['Credit_History'].mean())"
   ]
  },
  {
   "cell_type": "code",
   "execution_count": null,
   "id": "2d930cea",
   "metadata": {},
   "outputs": [],
   "source": [
    "#fill the null value of object datatype\n",
    "df['Gender'] =df['Gender'].fillna(df['Gender'].mode()[0]) \n",
    "df['Married'] =df['Married'].fillna(df['Married'].mode()[0])\n",
    "df['Dependents'] =df['Dependents'].fillna(df['Dependents'].mode()[0])\n",
    "df['Self_Employed'] =df['Self_Employed'].fillna(df['Self_Employed'].mode()[0]) "
   ]
  },
  {
   "cell_type": "code",
   "execution_count": null,
   "id": "1ce73533",
   "metadata": {},
   "outputs": [],
   "source": [
    "df.isnull().sum()"
   ]
  },
  {
   "cell_type": "code",
   "execution_count": null,
   "id": "332f708b",
   "metadata": {},
   "outputs": [],
   "source": [
    "# Display value counts and count plots for categorical columns\n",
    "cat_cols = ['Gender', 'Married', 'Education', 'Self_Employed', 'Property_Area', 'Dependents', 'Loan_Status','Credit_History','Loan_Amount_Term']\n",
    "for col in cat_cols:\n",
    "    print(f\"\\nValue counts for {col}:\")\n",
    "    print(df[col].value_counts())\n",
    "    sns.countplot(x=col, data=df)\n",
    "    plt.title(f'Distribution of {col}')\n",
    "    plt.show()\n"
   ]
  },
  {
   "cell_type": "code",
   "execution_count": null,
   "id": "cadd4af5",
   "metadata": {},
   "outputs": [],
   "source": [
    "# Visualize the distribution of the target variable (Loan_Status)\n",
    "print(\"\\nTarget variable (Loan_Status) distribution:\")\n",
    "print(df['Loan_Status'].value_counts())\n",
    "sns.countplot(x='Loan_Status', data=df)\n",
    "plt.title(\"Loan Approval Distribution\")\n",
    "plt.show()\n"
   ]
  },
  {
   "cell_type": "code",
   "execution_count": null,
   "id": "a4405c72",
   "metadata": {},
   "outputs": [],
   "source": [
    "#Plot histograms with KDE for numerical features\n",
    "plt.figure(figsize=(10,6))\n",
    "for col in ['ApplicantIncome', 'CoapplicantIncome', 'LoanAmount']:\n",
    "    sns.histplot(df[col], kde=True)\n",
    "    plt.title(f'Distribution of {col}')\n",
    "    plt.show()\n"
   ]
  },
  {
   "cell_type": "code",
   "execution_count": null,
   "id": "764eaacc",
   "metadata": {},
   "outputs": [],
   "source": [
    " # correlation for numerical data\n",
    "df_numeric = df.select_dtypes(include=['int64', 'float64'])\n",
    "plt.figure(figsize=(10,6))\n",
    "sns.heatmap(df_numeric.corr(), annot=True, cmap='coolwarm', fmt='.2f')\n",
    "plt.title('Correlation Heatmap')\n",
    "plt.show()"
   ]
  },
  {
   "cell_type": "markdown",
   "id": "f790fa80",
   "metadata": {},
   "source": [
    "# 4. Feature Engineering\n",
    "Create new features like Total_Income, and apply log transformations.\n"
   ]
  },
  {
   "cell_type": "code",
   "execution_count": null,
   "id": "a16f197e",
   "metadata": {},
   "outputs": [],
   "source": [
    "# Create a new column for total income\n",
    "df['Total_Income'] = df['ApplicantIncome'] + df['CoapplicantIncome']\n",
    "df.head()\n"
   ]
  },
  {
   "cell_type": "code",
   "execution_count": null,
   "id": "45e512ee",
   "metadata": {},
   "outputs": [],
   "source": [
    "# Plot distribution of Total_Income before log transformation\n",
    "sns.histplot(df['Total_Income'], kde=True)\n",
    "plt.title('Total Income Distribution (Before Log)')\n",
    "plt.xlabel('Total Income')\n",
    "plt.show()\n"
   ]
  },
  {
   "cell_type": "code",
   "execution_count": null,
   "id": "00eacdb4",
   "metadata": {},
   "outputs": [],
   "source": [
    " # Apply log transformation to reduce skewness\n",
    "df['Log_Total_Income'] = np.log1p(df['Total_Income'])\n"
   ]
  },
  {
   "cell_type": "code",
   "execution_count": null,
   "id": "a2f9ecbe",
   "metadata": {},
   "outputs": [],
   "source": [
    "# Plot distribution of Log_Total_Income\n",
    "sns.histplot(df['Log_Total_Income'], kde=True)\n",
    "plt.title('Total Income Distribution (After Log)')\n",
    "plt.xlabel('Log of Total Income')\n",
    "plt.show()\n"
   ]
  },
  {
   "cell_type": "code",
   "execution_count": null,
   "id": "4b929729",
   "metadata": {},
   "outputs": [],
   "source": [
    "# Plot distribution of LoanAmount before log transformation\n",
    "sns.histplot(df['LoanAmount'], kde=True)\n",
    "plt.title('LoanAmount Distribution (Before Log)')\n",
    "plt.xlabel('LoanAmount')\n",
    "plt.show()"
   ]
  },
  {
   "cell_type": "code",
   "execution_count": null,
   "id": "72a40e37",
   "metadata": {},
   "outputs": [],
   "source": [
    "# Apply log transformation to LoanAmount \n",
    "df['Log_LoanAmount'] = np.log1p(df['LoanAmount'])\n"
   ]
  },
  {
   "cell_type": "code",
   "execution_count": null,
   "id": "e12bb2a5",
   "metadata": {},
   "outputs": [],
   "source": [
    "# Plot distribution of Log_LoanAmount\n",
    "sns.histplot(df['Log_LoanAmount'], kde=True)\n",
    "plt.title('Loan Amount Distribution (After Log)')\n",
    "plt.xlabel('Log of Loan Amount')\n",
    "plt.show()\n"
   ]
  },
  {
   "cell_type": "code",
   "execution_count": null,
   "id": "c6fb6669",
   "metadata": {},
   "outputs": [],
   "source": [
    "# Apply log transformation to Loan_Amount_Term \n",
    "df['Log_Loan_Amount_Term'] = np.log1p(df['Loan_Amount_Term'])"
   ]
  },
  {
   "cell_type": "code",
   "execution_count": null,
   "id": "9994931f",
   "metadata": {},
   "outputs": [],
   "source": [
    "# Plot distribution of Log_Loan_Amount_Term\n",
    "sns.histplot(df['Log_Loan_Amount_Term'], kde=True)\n",
    "plt.title('Loan_Amount_Term Distribution (After Log)')\n",
    "plt.xlabel('Log of Loan_Amount_Term')\n",
    "plt.show()"
   ]
  },
  {
   "cell_type": "code",
   "execution_count": null,
   "id": "d58f1167",
   "metadata": {},
   "outputs": [],
   "source": [
    "df.head()"
   ]
  },
  {
   "cell_type": "code",
   "execution_count": null,
   "id": "fd82655e",
   "metadata": {},
   "outputs": [],
   "source": [
    "#drop unnecessary columns\n",
    "cols = ['ApplicantIncome','CoapplicantIncome','Total_Income','Loan_Amount_Term','LoanAmount','Loan_ID']\n",
    "existing_cols = [col for col in cols if col in df.columns]\n",
    "df = df.drop(columns=existing_cols)\n",
    "df.head()\n"
   ]
  },
  {
   "cell_type": "markdown",
   "id": "508ccc17",
   "metadata": {},
   "source": [
    "# 5. Encoding Categorical Variables\n",
    "Convert object types to numerical values using Label Encoding.\n"
   ]
  },
  {
   "cell_type": "code",
   "execution_count": null,
   "id": "45e98bce",
   "metadata": {},
   "outputs": [],
   "source": [
    "#convert to mumerical data by label encoding\n",
    "from sklearn.preprocessing import LabelEncoder\n",
    "\n",
    "cols = ['Gender','Married','Education','Self_Employed','Dependents','Property_Area','Loan_Status']\n",
    "le = LabelEncoder()\n",
    "\n",
    "for col in cols:\n",
    "    df[col] = le.fit_transform(df[col])\n",
    "df.head()"
   ]
  },
  {
   "cell_type": "code",
   "execution_count": null,
   "id": "de4b15a4",
   "metadata": {},
   "outputs": [],
   "source": [
    "df.dtypes"
   ]
  },
  {
   "cell_type": "code",
   "execution_count": 160,
   "id": "c911c83c",
   "metadata": {},
   "outputs": [],
   "source": [
    "# split the features\n",
    "X = df.drop('Loan_Status', axis=1)  # Independent features\n",
    "Y = df['Loan_Status']               # Dependent feature\n"
   ]
  },
  {
   "cell_type": "code",
   "execution_count": 155,
   "id": "11916123",
   "metadata": {},
   "outputs": [
    {
     "data": {
      "text/html": [
       "<div>\n",
       "<style scoped>\n",
       "    .dataframe tbody tr th:only-of-type {\n",
       "        vertical-align: middle;\n",
       "    }\n",
       "\n",
       "    .dataframe tbody tr th {\n",
       "        vertical-align: top;\n",
       "    }\n",
       "\n",
       "    .dataframe thead th {\n",
       "        text-align: right;\n",
       "    }\n",
       "</style>\n",
       "<table border=\"1\" class=\"dataframe\">\n",
       "  <thead>\n",
       "    <tr style=\"text-align: right;\">\n",
       "      <th></th>\n",
       "      <th>Gender</th>\n",
       "      <th>Married</th>\n",
       "      <th>Dependents</th>\n",
       "      <th>Education</th>\n",
       "      <th>Self_Employed</th>\n",
       "      <th>Credit_History</th>\n",
       "      <th>Property_Area</th>\n",
       "      <th>Log_Total_Income</th>\n",
       "      <th>Log_LoanAmount</th>\n",
       "      <th>Log_Loan_Amount_Term</th>\n",
       "    </tr>\n",
       "  </thead>\n",
       "  <tbody>\n",
       "    <tr>\n",
       "      <th>0</th>\n",
       "      <td>1</td>\n",
       "      <td>0</td>\n",
       "      <td>0</td>\n",
       "      <td>0</td>\n",
       "      <td>0</td>\n",
       "      <td>1.0</td>\n",
       "      <td>2</td>\n",
       "      <td>8.674197</td>\n",
       "      <td>4.859812</td>\n",
       "      <td>5.888878</td>\n",
       "    </tr>\n",
       "    <tr>\n",
       "      <th>1</th>\n",
       "      <td>1</td>\n",
       "      <td>1</td>\n",
       "      <td>1</td>\n",
       "      <td>0</td>\n",
       "      <td>0</td>\n",
       "      <td>1.0</td>\n",
       "      <td>0</td>\n",
       "      <td>8.714732</td>\n",
       "      <td>4.859812</td>\n",
       "      <td>5.888878</td>\n",
       "    </tr>\n",
       "    <tr>\n",
       "      <th>2</th>\n",
       "      <td>1</td>\n",
       "      <td>1</td>\n",
       "      <td>0</td>\n",
       "      <td>0</td>\n",
       "      <td>1</td>\n",
       "      <td>1.0</td>\n",
       "      <td>2</td>\n",
       "      <td>8.006701</td>\n",
       "      <td>4.204693</td>\n",
       "      <td>5.888878</td>\n",
       "    </tr>\n",
       "    <tr>\n",
       "      <th>3</th>\n",
       "      <td>1</td>\n",
       "      <td>1</td>\n",
       "      <td>0</td>\n",
       "      <td>1</td>\n",
       "      <td>0</td>\n",
       "      <td>1.0</td>\n",
       "      <td>2</td>\n",
       "      <td>8.505525</td>\n",
       "      <td>4.795791</td>\n",
       "      <td>5.888878</td>\n",
       "    </tr>\n",
       "    <tr>\n",
       "      <th>4</th>\n",
       "      <td>1</td>\n",
       "      <td>0</td>\n",
       "      <td>0</td>\n",
       "      <td>0</td>\n",
       "      <td>0</td>\n",
       "      <td>1.0</td>\n",
       "      <td>2</td>\n",
       "      <td>8.699681</td>\n",
       "      <td>4.955827</td>\n",
       "      <td>5.888878</td>\n",
       "    </tr>\n",
       "    <tr>\n",
       "      <th>...</th>\n",
       "      <td>...</td>\n",
       "      <td>...</td>\n",
       "      <td>...</td>\n",
       "      <td>...</td>\n",
       "      <td>...</td>\n",
       "      <td>...</td>\n",
       "      <td>...</td>\n",
       "      <td>...</td>\n",
       "      <td>...</td>\n",
       "      <td>...</td>\n",
       "    </tr>\n",
       "    <tr>\n",
       "      <th>609</th>\n",
       "      <td>0</td>\n",
       "      <td>0</td>\n",
       "      <td>0</td>\n",
       "      <td>0</td>\n",
       "      <td>0</td>\n",
       "      <td>1.0</td>\n",
       "      <td>0</td>\n",
       "      <td>7.972811</td>\n",
       "      <td>4.276666</td>\n",
       "      <td>5.888878</td>\n",
       "    </tr>\n",
       "    <tr>\n",
       "      <th>610</th>\n",
       "      <td>1</td>\n",
       "      <td>1</td>\n",
       "      <td>3</td>\n",
       "      <td>0</td>\n",
       "      <td>0</td>\n",
       "      <td>1.0</td>\n",
       "      <td>0</td>\n",
       "      <td>8.320448</td>\n",
       "      <td>3.713572</td>\n",
       "      <td>5.198497</td>\n",
       "    </tr>\n",
       "    <tr>\n",
       "      <th>611</th>\n",
       "      <td>1</td>\n",
       "      <td>1</td>\n",
       "      <td>1</td>\n",
       "      <td>0</td>\n",
       "      <td>0</td>\n",
       "      <td>1.0</td>\n",
       "      <td>2</td>\n",
       "      <td>9.025576</td>\n",
       "      <td>5.537334</td>\n",
       "      <td>5.888878</td>\n",
       "    </tr>\n",
       "    <tr>\n",
       "      <th>612</th>\n",
       "      <td>1</td>\n",
       "      <td>1</td>\n",
       "      <td>2</td>\n",
       "      <td>0</td>\n",
       "      <td>0</td>\n",
       "      <td>1.0</td>\n",
       "      <td>2</td>\n",
       "      <td>8.933796</td>\n",
       "      <td>5.236442</td>\n",
       "      <td>5.888878</td>\n",
       "    </tr>\n",
       "    <tr>\n",
       "      <th>613</th>\n",
       "      <td>0</td>\n",
       "      <td>0</td>\n",
       "      <td>0</td>\n",
       "      <td>0</td>\n",
       "      <td>1</td>\n",
       "      <td>0.0</td>\n",
       "      <td>1</td>\n",
       "      <td>8.430327</td>\n",
       "      <td>4.897840</td>\n",
       "      <td>5.888878</td>\n",
       "    </tr>\n",
       "  </tbody>\n",
       "</table>\n",
       "<p>614 rows × 10 columns</p>\n",
       "</div>"
      ],
      "text/plain": [
       "     Gender  Married  Dependents  Education  Self_Employed  Credit_History  \\\n",
       "0         1        0           0          0              0             1.0   \n",
       "1         1        1           1          0              0             1.0   \n",
       "2         1        1           0          0              1             1.0   \n",
       "3         1        1           0          1              0             1.0   \n",
       "4         1        0           0          0              0             1.0   \n",
       "..      ...      ...         ...        ...            ...             ...   \n",
       "609       0        0           0          0              0             1.0   \n",
       "610       1        1           3          0              0             1.0   \n",
       "611       1        1           1          0              0             1.0   \n",
       "612       1        1           2          0              0             1.0   \n",
       "613       0        0           0          0              1             0.0   \n",
       "\n",
       "     Property_Area  Log_Total_Income  Log_LoanAmount  Log_Loan_Amount_Term  \n",
       "0                2          8.674197        4.859812              5.888878  \n",
       "1                0          8.714732        4.859812              5.888878  \n",
       "2                2          8.006701        4.204693              5.888878  \n",
       "3                2          8.505525        4.795791              5.888878  \n",
       "4                2          8.699681        4.955827              5.888878  \n",
       "..             ...               ...             ...                   ...  \n",
       "609              0          7.972811        4.276666              5.888878  \n",
       "610              0          8.320448        3.713572              5.198497  \n",
       "611              2          9.025576        5.537334              5.888878  \n",
       "612              2          8.933796        5.236442              5.888878  \n",
       "613              1          8.430327        4.897840              5.888878  \n",
       "\n",
       "[614 rows x 10 columns]"
      ]
     },
     "execution_count": 155,
     "metadata": {},
     "output_type": "execute_result"
    }
   ],
   "source": [
    "X"
   ]
  },
  {
   "cell_type": "code",
   "execution_count": 161,
   "id": "267d1f66",
   "metadata": {},
   "outputs": [
    {
     "data": {
      "text/plain": [
       "0      1\n",
       "1      0\n",
       "2      1\n",
       "3      1\n",
       "4      1\n",
       "      ..\n",
       "609    1\n",
       "610    1\n",
       "611    1\n",
       "612    1\n",
       "613    0\n",
       "Name: Loan_Status, Length: 614, dtype: int64"
      ]
     },
     "execution_count": 161,
     "metadata": {},
     "output_type": "execute_result"
    }
   ],
   "source": [
    "Y"
   ]
  }
 ],
 "metadata": {
  "kernelspec": {
   "display_name": "Python 3",
   "language": "python",
   "name": "python3"
  },
  "language_info": {
   "codemirror_mode": {
    "name": "ipython",
    "version": 3
   },
   "file_extension": ".py",
   "mimetype": "text/x-python",
   "name": "python",
   "nbconvert_exporter": "python",
   "pygments_lexer": "ipython3",
   "version": "3.12.6"
  }
 },
 "nbformat": 4,
 "nbformat_minor": 5
}
